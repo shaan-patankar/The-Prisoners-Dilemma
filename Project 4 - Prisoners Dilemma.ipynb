{
 "cells": [
  {
   "attachments": {},
   "cell_type": "markdown",
   "metadata": {
    "collapsed": false
   },
   "source": [
    "# Project 4 - Prisoner's Dilemma\n",
    "\n",
    "This project is about a simple two-player game.  In the game each player has only two choices: they can **cooperate** or **cheat**.  They choose secretly, so they do not know what their opponent will do. Each player gets a score (or \"payoff\") as follows:\n",
    " - if both players cheat, they both get 0 points\n",
    " - if both players cooperate, they both get 2 points\n",
    " - if one player cooperates and one player cheats, the one who cheats gets 3 points and the one who cooperates gets -1 points.\n",
    "\n",
    "The game is played several times and whoever has the most points at the end is the winner.\n",
    "\n",
    "Many different versions of this game exist, and they form a fundamental example in [game theory](https://en.wikipedia.org/wiki/Game_theory).\n",
    "\n",
    "In this project you will investigate how well various strategies do when they play this game.  You will simulate games with just two players as well as \"tournaments\" where many different players all play each other. Finally you will investigate the results of changing the payoffs on how well strategies perform. \n",
    "\n",
    "\n",
    "## Exercise 0 (optional, no marks)\n",
    "\n",
    "Play through [The Evolution of Trust](https://ncase.me/trust/), Nicky Case's web game about the iterated prisoner's dilemma."
   ]
  },
  {
   "attachments": {},
   "cell_type": "markdown",
   "metadata": {
    "collapsed": false
   },
   "source": [
    "## Exercise 1\n",
    "\n",
    "Throughout this project we will represent cooperating by the number 0 and cheating by the number 1.  Run the next cell."
   ]
  },
  {
   "cell_type": "code",
   "execution_count": 1,
   "metadata": {
    "collapsed": false
   },
   "outputs": [],
   "source": [
    "cooperate = 0\n",
    "cheat = 1"
   ]
  },
  {
   "attachments": {},
   "cell_type": "markdown",
   "metadata": {
    "collapsed": false
   },
   "source": [
    "A playing strategy will be represented by a function which takes a single argument and outputs either `cooperate` or `cheat`.  The argument to the function will be a list `history` of the choices the opponent has made so far, starting with the first choice and ending with the most recent choice. For example, if no games have been played yet then `history` would be the empty list `[]`, and if three games have been played and the opponent cooperated in the first game and then cheated in the next two games, `history` would be equal to\n",
    "```\n",
    "[cooperate, cheat, cheat]\n",
    "```\n",
    "\n",
    "One of the simplest strategies is to ignore the history of moves the opponent has made and always cheat. This would be represented by the following function:"
   ]
  },
  {
   "cell_type": "code",
   "execution_count": 2,
   "metadata": {
    "collapsed": false
   },
   "outputs": [],
   "source": [
    "def always_cheat(history):\n",
    "    return 1\n",
    "\n",
    "# The always_cheat function returns 1, which represents cheat, for every input history.\n",
    "# So with this strategy, we will always cheat."
   ]
  },
  {
   "attachments": {},
   "cell_type": "markdown",
   "metadata": {
    "collapsed": false
   },
   "source": [
    "**Write functions implementing the following strategies.**\n",
    "1. Always cooperate.\n",
    "2. (\"tit for tat\") On the first game, cooperate. After that do whatever the opponent did in the previous game.\n",
    "3. (\"random choice\") In each game, cheat with probably 1/2, otherwise cooperate.\n",
    "4. (\"grudge\") If your opponent has ever cheated, cheat. Otherwise cooperate.\n",
    "\n",
    "For part 3, it may be helpful to `import random` and investigate `random.choice` or use to use the function `random.random()` which generates a uniform random number between 0 and 1."
   ]
  },
  {
   "cell_type": "code",
   "execution_count": 3,
   "metadata": {
    "collapsed": false
   },
   "outputs": [],
   "source": [
    "def always_cooperate(history):\n",
    "    return 0\n",
    "\n",
    "# The always_cooperate function returns 0, which represents cooperate, for every input history.\n",
    "# So with this strategy, we will always cooperate."
   ]
  },
  {
   "cell_type": "code",
   "execution_count": 4,
   "metadata": {
    "collapsed": false
   },
   "outputs": [],
   "source": [
    "def tit_for_tat(history):\n",
    "    \n",
    "    if len(history) == 0:\n",
    "        return 0\n",
    "    else:\n",
    "        return history[-1]\n",
    "\n",
    "# The tit_for_tat function first checks if the length of the history is equal to 0, which means that no games have been played yet. \n",
    "# If that's the case, the function returns 0, which represents cooperate, as the first move. \n",
    "\n",
    "# If the length of the history is not equal to 0, the function returns the last element in the history, which is the opponent's previous move. \n",
    "# So with this strategy, on the first move we cooperate, then we will always mirror the opponent's previous move."
   ]
  },
  {
   "cell_type": "code",
   "execution_count": 5,
   "metadata": {
    "collapsed": false
   },
   "outputs": [],
   "source": [
    "import random\n",
    "\n",
    "def random_choice(history):\n",
    "    return random.choice([0, 1])\n",
    "\n",
    "# The random_choice function returns either 0 (cooperate) or 1 (cheat) randomly, each with propability 1/2.\n",
    "# So with this strategy, the player will randomly choose to cooperate or cheat with each event being equally likely.   "
   ]
  },
  {
   "cell_type": "code",
   "execution_count": 6,
   "metadata": {
    "collapsed": false
   },
   "outputs": [],
   "source": [
    "def grudge(history):\n",
    "    \n",
    "    if 1 in history:\n",
    "        return 1\n",
    "    else:\n",
    "        return 0\n",
    "\n",
    "# In this strategy, the grudge function returns a 1 (cheat) if the opponent has ever cheated (indicated by the presence of 1 in the history list). \n",
    "# If the opponent has never cheated, the function returns 0 (cooperate). "
   ]
  },
  {
   "attachments": {},
   "cell_type": "markdown",
   "metadata": {
    "collapsed": false
   },
   "source": [
    "## Exercise 2\n",
    "\n",
    "Write a function `play_n_games(player1, player2, n)`. The arguments `player1` and `player2` should be strategy functions like the ones you wrote in Exercise 1.  The function should run `n` games between the two players, and should return a tuple `(score1, score2)` where `score1` is `player1`'s score after `n` games and `score2` is `player2`'s score after `n` games.\n",
    "\n",
    "You will need to keep lists `history1` and `history2` of the moves made by `player1` and `player2` to supply the arguments to the player functions, and update these lists each time a game is played.\n",
    "\n",
    "**Print the values of:**\n",
    "- `play_n_games(always_cooperate, tit_for_tat, 10)`\n",
    "- `play_n_games(always_cheat, tit_for_tat, 10)`\n",
    "- `play_n_games(grudge, tit_for_tat, 10)`\n",
    "- `play_n_games(grudge, always_cheat, 10)`\n",
    "\n",
    "\n",
    "The output of `play_n_games(always_cheat, always_cooperate, 10)` should be `(30, -10)` - if your function doesn't give this result, something is wrong."
   ]
  },
  {
   "cell_type": "code",
   "execution_count": 7,
   "metadata": {
    "collapsed": false
   },
   "outputs": [],
   "source": [
    "def play_n_games(player1, player2, n):\n",
    "    \n",
    "    score1 = 0\n",
    "    score2 = 0\n",
    "    \n",
    "    history1 = []\n",
    "    history2 = []\n",
    "    \n",
    "    for i in range(n):\n",
    "\n",
    "        move1 = player1(history2)\n",
    "        move2 = player2(history1)\n",
    "        \n",
    "        if move1 == 0 and move2 == 0:\n",
    "            score1 += 2\n",
    "            score2 += 2\n",
    "        elif move1 == 1 and move2 == 1:\n",
    "            score1 += 0\n",
    "            score2 += 0\n",
    "        elif move1 == 0 and move2 == 1:\n",
    "            score1 -= 1\n",
    "            score2 += 3\n",
    "        else:\n",
    "            score1 += 3\n",
    "            score2 -= 1\n",
    "        \n",
    "        history1.append(move1)\n",
    "        history2.append(move2)\n",
    "    \n",
    "    return (score1, score2)\n",
    "\n",
    "# The play_n_games function takes inputs player1 and player2 which are strategy functions for two players, and the numbers of games to play, n.\n",
    "# For the two players, we initialise two scores (score1 and score2), and two histories (history1 and history2), which is a list containing the players previous moves.  \n",
    "\n",
    "# In each iteration of the loop, the code calls the player functions with the current histories, and then updates the scores and histories based on the results of the moves. \n",
    "# After the loop is finished, the final scores are returned as a tuple. "
   ]
  },
  {
   "cell_type": "code",
   "execution_count": 8,
   "metadata": {},
   "outputs": [
    {
     "name": "stdout",
     "output_type": "stream",
     "text": [
      "(20, 20)\n",
      "(3, -1)\n",
      "(20, 20)\n",
      "(-1, 3)\n",
      "(30, -10)\n"
     ]
    }
   ],
   "source": [
    "print(play_n_games(always_cooperate, tit_for_tat, 10)) # prints the tuple: (20, 20)\n",
    "\n",
    "print(play_n_games(always_cheat, tit_for_tat, 10)) # prints the tuple: (3, -1)\n",
    "\n",
    "print(play_n_games(grudge, tit_for_tat, 10)) # prints the tuple: (20, 20)\n",
    "\n",
    "print(play_n_games(grudge, always_cheat, 10)) # prints the tuple: (-1, 3)\n",
    "\n",
    "print(play_n_games(always_cheat, always_cooperate, 10)) # prints the tuple: (30, -10)"
   ]
  },
  {
   "cell_type": "code",
   "execution_count": 9,
   "metadata": {},
   "outputs": [
    {
     "data": {
      "text/html": [
       "<div>\n",
       "<style scoped>\n",
       "    .dataframe tbody tr th:only-of-type {\n",
       "        vertical-align: middle;\n",
       "    }\n",
       "\n",
       "    .dataframe tbody tr th {\n",
       "        vertical-align: top;\n",
       "    }\n",
       "\n",
       "    .dataframe thead th {\n",
       "        text-align: right;\n",
       "    }\n",
       "</style>\n",
       "<table border=\"1\" class=\"dataframe\">\n",
       "  <thead>\n",
       "    <tr style=\"text-align: right;\">\n",
       "      <th></th>\n",
       "      <th>player1</th>\n",
       "      <th>player2</th>\n",
       "      <th>score1</th>\n",
       "      <th>score2</th>\n",
       "    </tr>\n",
       "  </thead>\n",
       "  <tbody>\n",
       "    <tr>\n",
       "      <th>0</th>\n",
       "      <td>grudge</td>\n",
       "      <td>grudge</td>\n",
       "      <td>20</td>\n",
       "      <td>20</td>\n",
       "    </tr>\n",
       "    <tr>\n",
       "      <th>1</th>\n",
       "      <td>grudge</td>\n",
       "      <td>tit_for_tat</td>\n",
       "      <td>20</td>\n",
       "      <td>20</td>\n",
       "    </tr>\n",
       "    <tr>\n",
       "      <th>2</th>\n",
       "      <td>grudge</td>\n",
       "      <td>always_cheat</td>\n",
       "      <td>-1</td>\n",
       "      <td>3</td>\n",
       "    </tr>\n",
       "    <tr>\n",
       "      <th>3</th>\n",
       "      <td>grudge</td>\n",
       "      <td>always_cooperate</td>\n",
       "      <td>20</td>\n",
       "      <td>20</td>\n",
       "    </tr>\n",
       "    <tr>\n",
       "      <th>4</th>\n",
       "      <td>tit_for_tat</td>\n",
       "      <td>grudge</td>\n",
       "      <td>20</td>\n",
       "      <td>20</td>\n",
       "    </tr>\n",
       "    <tr>\n",
       "      <th>5</th>\n",
       "      <td>tit_for_tat</td>\n",
       "      <td>tit_for_tat</td>\n",
       "      <td>20</td>\n",
       "      <td>20</td>\n",
       "    </tr>\n",
       "    <tr>\n",
       "      <th>6</th>\n",
       "      <td>tit_for_tat</td>\n",
       "      <td>always_cheat</td>\n",
       "      <td>-1</td>\n",
       "      <td>3</td>\n",
       "    </tr>\n",
       "    <tr>\n",
       "      <th>7</th>\n",
       "      <td>tit_for_tat</td>\n",
       "      <td>always_cooperate</td>\n",
       "      <td>20</td>\n",
       "      <td>20</td>\n",
       "    </tr>\n",
       "    <tr>\n",
       "      <th>8</th>\n",
       "      <td>always_cheat</td>\n",
       "      <td>grudge</td>\n",
       "      <td>3</td>\n",
       "      <td>-1</td>\n",
       "    </tr>\n",
       "    <tr>\n",
       "      <th>9</th>\n",
       "      <td>always_cheat</td>\n",
       "      <td>tit_for_tat</td>\n",
       "      <td>3</td>\n",
       "      <td>-1</td>\n",
       "    </tr>\n",
       "    <tr>\n",
       "      <th>10</th>\n",
       "      <td>always_cheat</td>\n",
       "      <td>always_cheat</td>\n",
       "      <td>0</td>\n",
       "      <td>0</td>\n",
       "    </tr>\n",
       "    <tr>\n",
       "      <th>11</th>\n",
       "      <td>always_cheat</td>\n",
       "      <td>always_cooperate</td>\n",
       "      <td>30</td>\n",
       "      <td>-10</td>\n",
       "    </tr>\n",
       "    <tr>\n",
       "      <th>12</th>\n",
       "      <td>always_cooperate</td>\n",
       "      <td>grudge</td>\n",
       "      <td>20</td>\n",
       "      <td>20</td>\n",
       "    </tr>\n",
       "    <tr>\n",
       "      <th>13</th>\n",
       "      <td>always_cooperate</td>\n",
       "      <td>tit_for_tat</td>\n",
       "      <td>20</td>\n",
       "      <td>20</td>\n",
       "    </tr>\n",
       "    <tr>\n",
       "      <th>14</th>\n",
       "      <td>always_cooperate</td>\n",
       "      <td>always_cheat</td>\n",
       "      <td>-10</td>\n",
       "      <td>30</td>\n",
       "    </tr>\n",
       "    <tr>\n",
       "      <th>15</th>\n",
       "      <td>always_cooperate</td>\n",
       "      <td>always_cooperate</td>\n",
       "      <td>20</td>\n",
       "      <td>20</td>\n",
       "    </tr>\n",
       "  </tbody>\n",
       "</table>\n",
       "</div>"
      ],
      "text/plain": [
       "              player1             player2   score1  score2\n",
       "0              grudge              grudge       20      20\n",
       "1              grudge         tit_for_tat       20      20\n",
       "2              grudge        always_cheat       -1       3\n",
       "3              grudge    always_cooperate       20      20\n",
       "4         tit_for_tat              grudge       20      20\n",
       "5         tit_for_tat         tit_for_tat       20      20\n",
       "6         tit_for_tat        always_cheat       -1       3\n",
       "7         tit_for_tat    always_cooperate       20      20\n",
       "8        always_cheat              grudge        3      -1\n",
       "9        always_cheat         tit_for_tat        3      -1\n",
       "10       always_cheat        always_cheat        0       0\n",
       "11       always_cheat    always_cooperate       30     -10\n",
       "12   always_cooperate              grudge       20      20\n",
       "13   always_cooperate         tit_for_tat       20      20\n",
       "14   always_cooperate        always_cheat      -10      30\n",
       "15   always_cooperate    always_cooperate       20      20"
      ]
     },
     "execution_count": 9,
     "metadata": {},
     "output_type": "execute_result"
    }
   ],
   "source": [
    "import pandas as pd\n",
    "\n",
    "results = []\n",
    "strategies = [(' grudge ', grudge), (' tit_for_tat ', tit_for_tat), (' always_cheat ', always_cheat), (' always_cooperate ', always_cooperate)]\n",
    "n = 10\n",
    "\n",
    "for player1 in strategies:\n",
    "    for player2 in strategies:\n",
    "        score1, score2 = play_n_games(player1[1], player2[1], n)\n",
    "        results.append({' player1 ': player1[0], ' player2 ': player2[0], 'score1': score1, 'score2': score2})\n",
    "\n",
    "df = pd.DataFrame(results)\n",
    "df\n",
    "\n",
    "# Note, this was not asked in the question! This is just an extra piece of code I've written to help verify my answers for Exercises 2 and 3.\n",
    "\n",
    "# This code cell uses pandas to create a table of the scores both players have after 10 games.\n",
    "# Pandas isn't on the list of imports, but seeing as this isn't relevant to the question, and is just something extra I've coded to help me validate my answers, I felt it okay to use."
   ]
  },
  {
   "attachments": {},
   "cell_type": "markdown",
   "metadata": {
    "collapsed": false
   },
   "source": [
    "## Exercise 3\n",
    "\n",
    "Write a function `tournament(player_list)`.  The argument `player_list` will be a list of strategy functions `[player1, ..., playerN]`.  Every player should play every other player exactly ten times - that is, you need to call `play_n_games` once with `n=10` for each pair of distinct players from `player_list`.  The function should return a list `[score1, ..., scoreN]` of the *total* scores of each player.\n",
    "\n",
    "Print the output of\n",
    "- `tournament([always_cheat, always_cheat, always_cheat, always_cheat, tit_for_tat, tit_for_tat, tit_for_tat])`\n",
    "- `tournament([always_cheat, always_cooperate, tit_for_tat, tit_for_tat])`\n",
    "- `tournament([grudge, grudge, grudge, random_choice, always_cheat, always_cheat, tit_for_tat, tit_for_tat, tit_for_tat])`"
   ]
  },
  {
   "cell_type": "code",
   "execution_count": 10,
   "metadata": {
    "collapsed": false
   },
   "outputs": [],
   "source": [
    "def tournament(player_list):\n",
    "    \n",
    "    N = len(player_list)\n",
    "    scores = [0] * N\n",
    "    \n",
    "    for i in range(N):\n",
    "        for j in range(i+1, N):\n",
    "            score1, score2 = play_n_games(player_list[i], player_list[j], 10)\n",
    "            scores[i] += score1\n",
    "            scores[j] += score2\n",
    "    return scores\n",
    "\n",
    "# The tournament function takes a player_list as an input, which represent the players participating in the tournament each with a particular strategy. \n",
    "# We then use the play_n_games function to match each player against every other player in the tournament exactly 10 times. \n",
    "# The total score of each player is calculated and stored in the scores list. The scores list is then returned as the output of the tournament function."
   ]
  },
  {
   "cell_type": "code",
   "execution_count": 11,
   "metadata": {},
   "outputs": [
    {
     "name": "stdout",
     "output_type": "stream",
     "text": [
      "[9, 9, 9, 9, 36, 36, 36]\n",
      "[36, 30, 39, 39]\n",
      "[114, 117, 111, 24, 39, 42, 107, 109, 105]\n"
     ]
    }
   ],
   "source": [
    "print(tournament([always_cheat, always_cheat, always_cheat, always_cheat, tit_for_tat, tit_for_tat, tit_for_tat])) # prints the list: [9, 9, 9, 9, 36, 36, 36]\n",
    "\n",
    "print(tournament([always_cheat, always_cooperate, tit_for_tat, tit_for_tat])) # prints the list: [36, 30, 39, 39]\n",
    "\n",
    "print(tournament([grudge, grudge, grudge, random_choice, always_cheat, always_cheat, tit_for_tat, tit_for_tat, tit_for_tat])) # contains random_choice so scores vary"
   ]
  },
  {
   "attachments": {},
   "cell_type": "markdown",
   "metadata": {
    "collapsed": false
   },
   "source": [
    "## Exercise 4\n",
    "\n",
    "We will now change the payoffs so that\n",
    "\n",
    " - if both players cheat, they both get 0 points\n",
    " - if both players cooperate, they both get 1 point\n",
    " - if one player cooperates and one player cheats, the one who cheats gets 3 points and the one who cooperates gets 2 points.\n",
    "\n",
    "This changes the game in an important way.  In the old game, no matter what player 1 does, player 2 gets a better score by cheating.  In the new game if player 1 cheats then player 2 does better by cooperating (player 2 gets 2 points by cooperating instead of 0 if they cheat), but if player 1 cooperates then player 2 does better by cheating (player 2 gets 3 points if the cheat instead of 1 if they cooperate).\n",
    "\n",
    "With the new payoffs, **do the following**:\n",
    "\n",
    "- compute the results of 50000 games between a `random_choice` player 1 and a player 2 who cheats with probability `p=0/10`.\n",
    "- compute the results of 50000 games between a `random_choice` player 1 and a player 2 who cheats with probability `p=1/10`.\n",
    "- compute the results of 50000 games between a `random_choice` player 1 and a player 2 who cheats with probability `p=2/10`.\n",
    "- ...\n",
    "- compute the results of 50000 games between a `random_choice` player 1 and a player 2 who cheats with probability `p=10/10`.\n",
    "\n",
    "\n",
    "You should see that player 2 gets approximately the same score *no matter what the value of `p`* - this situation is called a [Nash equilibrium](https://en.wikipedia.org/wiki/Nash_equilibrium).\n",
    "\n",
    "It might be helpful to use the function `random.random()`, which produces a uniformly distributed random number between 0 and 1.  This means the probability that `random.random()` is less than `p` equals `p`."
   ]
  },
  {
   "cell_type": "code",
   "execution_count": 12,
   "metadata": {},
   "outputs": [
    {
     "name": "stdout",
     "output_type": "stream",
     "text": [
      "probability: 0.0 | scores: (99632, 74816)\n",
      "probability: 0.1 | scores: (94878, 75030)\n",
      "probability: 0.2 | scores: (90007, 74858)\n",
      "probability: 0.3 | scores: (84597, 74833)\n",
      "probability: 0.4 | scores: (79632, 74694)\n",
      "probability: 0.5 | scores: (74930, 74751)\n",
      "probability: 0.6 | scores: (69990, 74936)\n",
      "probability: 0.7 | scores: (65250, 75129)\n",
      "probability: 0.8 | scores: (59688, 74546)\n",
      "probability: 0.9 | scores: (55277, 75419)\n",
      "probability: 1.0 | scores: (49918, 74877)\n"
     ]
    }
   ],
   "source": [
    "def random_choice():\n",
    "    return random.choice([0, 1])\n",
    "\n",
    "def cheat_with_prob(p):\n",
    "    if random.random() < p:\n",
    "        return 1\n",
    "    else: \n",
    "        return 0\n",
    "    \n",
    "def play_n_games_with_prob_p(player1, player2, n, p):\n",
    "    \n",
    "    score1 = 0\n",
    "    score2 = 0\n",
    "    \n",
    "    for i in range(n):\n",
    "\n",
    "        move1 = player1()\n",
    "        move2 = player2(p)\n",
    "        \n",
    "        if move1 == 0 and move2 == 0:\n",
    "            score1 += 1\n",
    "            score2 += 1\n",
    "        elif move1 == 1 and move2 == 1:\n",
    "            score1 += 0\n",
    "            score2 += 0\n",
    "        elif move1 == 0 and move2 == 1:\n",
    "            score1 += 2\n",
    "            score2 += 3\n",
    "        else:\n",
    "            score1 += 3\n",
    "            score2 += 2 \n",
    "            \n",
    "    return (score1, score2)\n",
    "\n",
    "prob = [i / 10 for i in range(11)]\n",
    "for p in prob:\n",
    "    scores = play_n_games_with_prob_p(random_choice, cheat_with_prob, 50000, p)\n",
    "    print(\"probability:\", p, \"| scores:\", scores)\n",
    "\n",
    "# random_choice is a function that randomly returns 0 or 1. This represents the random choice of player1 to either cooperate or cheat.\n",
    "\n",
    "# The cheat_with_prob function takes in a probability p and returns 1 (cheats) with the probability p and 0 (cooperates) with the probability 1-p.\n",
    "# Our function, play_game takes in two player functions player1 and player2, a number of games to play n, and the probability p for player 2 to cheat.\n",
    "\n",
    "# The game is played n times, and at each iteration, move1 and move2 are the actions of each player, which are determined by their respective functions.\n",
    "\n",
    "# Next, the code loops over a range of probabilities p, and for each p, it plays n=50000 games and prints out the probability p and the scores of both players.\n",
    "# We can see the scores are as expected with player2's score being ~75,000 for each p which satisfies Nash equilibrium. "
   ]
  }
 ],
 "metadata": {
  "kernelspec": {
   "display_name": "Python 3",
   "language": "python",
   "name": "python3"
  },
  "language_info": {
   "codemirror_mode": {
    "name": "ipython",
    "version": 3
   },
   "file_extension": ".py",
   "mimetype": "text/x-python",
   "name": "python",
   "nbconvert_exporter": "python",
   "pygments_lexer": "ipython3",
   "version": "3.10.6"
  },
  "vscode": {
   "interpreter": {
    "hash": "369f2c481f4da34e4445cda3fffd2e751bd1c4d706f27375911949ba6bb62e1c"
   }
  }
 },
 "nbformat": 4,
 "nbformat_minor": 4
}
